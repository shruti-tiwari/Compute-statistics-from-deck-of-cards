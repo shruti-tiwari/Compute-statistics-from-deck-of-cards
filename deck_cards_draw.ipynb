{
 "cells": [
  {
   "cell_type": "code",
   "execution_count": 159,
   "metadata": {
    "collapsed": true
   },
   "outputs": [],
   "source": [
    "from IPython.display import HTML, display"
   ]
  },
  {
   "cell_type": "markdown",
   "metadata": {},
   "source": [
    "# Project: Compute statistics from deck of cards\n",
    "<br>\n",
    "<font color='maroon'>\n",
    "by- Shruti Tiwari </font>\n",
    "<br>\n",
    "<br>\n",
    "\n",
    "<font color = 'blue'>First, create a histogram depicting the relative frequencies of the card values for a single draw. Report the mean, median, and standard deviation of the value distribution.</font>\n",
    "\n",
    "Distribution of card values:\n",
    "<br>The histogram of values of single draw:\n",
    "<br>\n",
    "\n",
    "<table><tr><td><img  src='single_draw.png'></td></tr></table>\n",
    "\n",
    "<br>\n",
    "The histogram of the single draw is negatively skewed with the mode at 10, median at 7, mean at 6.54 and standard deviation of 3.15. The reason for skewness in the distribution is that even if each card in the deck has even probability there are four cards(10, J, Q, k) with the score 10. Therefore the probability of next card to have score 10 is 4/13 while the probability of score from 1 to 9 is 1/13. Now, this skewness would not have risen if the score of the cards were evenly distributed such as Jack = 11, Queen = 12 and King = 13. In that case, each score will have a probability of 1/13."
   ]
  },
  {
   "cell_type": "markdown",
   "metadata": {},
   "source": [
    "<font color = 'blue'>Take a look at the distribution of the three-card sums from the samples that you obtained, either from Generate Data, or from your own collection. Report descriptive statistics for the samples you have drawn. Include at least two measures of central tendency and two measures of variability.</font>\n",
    "\n",
    "I generated data for the sum of three card draws 30 times using my own code. For this sample, the median is 21, mean is 20.73 and std is 4.32. The minimum value is 10 and the maximum value is 30. Though the minimum combination of three draws from the deck can be three aces summing up to 3 and the maximum value is 30. There is 25% probability that the sum for future draws will be below 17.5 and 75% probability that the sum will be below 23."
   ]
  },
  {
   "cell_type": "markdown",
   "metadata": {},
   "source": [
    "<font color = 'blue'>Create a histogram of the sampled three-card sums. Compare its shape to that of the original distribution. How are they different, and can you explain why this is the case?</font>\n",
    "\n",
    "The histogram is almost a normal distribution with a little negative skewness. This skewness is a result of a weighted probability of a card to have a score 10. The mode of the distribution is 23.\n",
    "<table><tr><td><img  src='3_draw.png'></td></tr></table>"
   ]
  },
  {
   "cell_type": "markdown",
   "metadata": {},
   "source": [
    "<font color = 'blue'>Make some estimates about values you would get on future draws. Within what range will you expect approximately 90% of your draw values to fall? What is the approximate probability that you will get a draw value of at least 20? Make sure you justify how you obtained your values.</font>\n",
    "\n",
    "We know since we have 4 set of cards with the ranks 1 to 10 the sum of three draws lie in the range 3 to 30 with 100% probability. But in this sample minimum value is 10 and the maximum value is 30 hence the probability of future draws based on this sample will be different. For these calculations, we will presume the sample distribution is a perfect normal distribution i.e. dispersion on both sides of the mean is symmetric.\n",
    "\n",
    "In order to get the range of value which falls in 90% probability range, we find the z score of 5% probability and 95% probability i.e. p = 0.05 and p = 0.95 and takes the difference.\n",
    "\n",
    "z-score for p = 0.05 is -1.65\n",
    "z score for p = 0.95 is  1.65\n",
    "\n",
    "The range of value to lie in 90 % probability range is\n",
    "\n",
    "20.73-1.65*4.32 to 20.73 + 1.65*4.32\n",
    "\n",
    "13.60 to 27.86\n",
    "\n",
    "To calculate the probability of value 20 we locate it on the standardized normal distribution.\n",
    "In other words, we calculate it's z-score.\n",
    "<br>\n",
    "z-score = (value - mean)/std = -0.169\n",
    "<br> from the z-table p corresponding z = -0.17 is 0.0475\n",
    "<br> Here, I would like to emphasize that if it were actually a perfectly normal distribution, mean and median would have been equal to 20 and the distribution would be symmetric to both sides of mean. In that ideal condition, the probability of next value to be 20 would be 0.05. "
   ]
  },
  {
   "cell_type": "markdown",
   "metadata": {},
   "source": [
    "The code starts here ..."
   ]
  },
  {
   "cell_type": "code",
   "execution_count": 160,
   "metadata": {},
   "outputs": [
    {
     "data": {
      "text/html": [
       "<script>\n",
       "code_show=true; \n",
       "function code_toggle() {\n",
       " if (code_show){\n",
       " $('div.input').hide();\n",
       " } else {\n",
       " $('div.input').show();\n",
       " }\n",
       " code_show = !code_show\n",
       "} \n",
       "$( document ).ready(code_toggle);\n",
       "</script>\n",
       "The raw code for this IPython notebook is by default hidden for easier reading.\n",
       "To toggle on/off the raw code, click <a href=\"javascript:code_toggle()\">here</a>."
      ],
      "text/plain": [
       "<IPython.core.display.HTML object>"
      ]
     },
     "execution_count": 160,
     "metadata": {},
     "output_type": "execute_result"
    }
   ],
   "source": [
    "HTML('''<script>\n",
    "code_show=true; \n",
    "function code_toggle() {\n",
    " if (code_show){\n",
    " $('div.input').hide();\n",
    " } else {\n",
    " $('div.input').show();\n",
    " }\n",
    " code_show = !code_show\n",
    "} \n",
    "$( document ).ready(code_toggle);\n",
    "</script>\n",
    "The raw code for this IPython notebook is by default hidden for easier reading.\n",
    "To toggle on/off the raw code, click <a href=\"javascript:code_toggle()\">here</a>.''')"
   ]
  },
  {
   "cell_type": "code",
   "execution_count": 161,
   "metadata": {
    "collapsed": true
   },
   "outputs": [],
   "source": [
    "from enum import Enum\n",
    "\n",
    "# Source: https://docs.python.org/3.4/library/enum.html#orderedenum\n",
    "#\n",
    "class OrderedEnum(Enum):\n",
    "    def __ge__(self, other):\n",
    "        if self.__class__ is other.__class__:\n",
    "            return self.value >= other.value\n",
    "        return NotImplemented\n",
    "    def __gt__(self, other):\n",
    "        if self.__class__ is other.__class__:\n",
    "            return self.value > other.value\n",
    "        return NotImplemented\n",
    "    def __le__(self, other):\n",
    "        if self.__class__ is other.__class__:\n",
    "            return self.value <= other.value\n",
    "        return NotImplemented\n",
    "    def __lt__(self, other):\n",
    "        if self.__class__ is other.__class__:\n",
    "            return self.value < other.value\n",
    "        return NotImplemented"
   ]
  },
  {
   "cell_type": "code",
   "execution_count": 162,
   "metadata": {
    "collapsed": true
   },
   "outputs": [],
   "source": [
    "class Rank(OrderedEnum):\n",
    "    ace = 1\n",
    "    two = 2\n",
    "    three = 3\n",
    "    four = 4\n",
    "    five = 5\n",
    "    six = 6\n",
    "    seven = 7\n",
    "    eight = 8\n",
    "    nine = 9\n",
    "    ten = 10\n",
    "    jack = 11\n",
    "    queen = 12\n",
    "    king = 13\n",
    "    \n",
    "    @property\n",
    "    def score(self):\n",
    "        if (self.value <= 10):\n",
    "            return self.value\n",
    "        else:\n",
    "            return 10"
   ]
  },
  {
   "cell_type": "code",
   "execution_count": 163,
   "metadata": {
    "collapsed": true
   },
   "outputs": [],
   "source": [
    "\n",
    "Suit  =  OrderedEnum (\"Suit\", \"heart diamond club spade\")"
   ]
  },
  {
   "cell_type": "code",
   "execution_count": 164,
   "metadata": {
    "collapsed": true
   },
   "outputs": [],
   "source": [
    "class Card(object):\n",
    "    def __init__(self, rank, suit):\n",
    "        self.rank = rank\n",
    "        self.suit = suit\n",
    "        \n",
    "    def __str__(self):\n",
    "        return \"{} of {}s\".format(self.rank.name.capitalize(), self.suit.name.capitalize())\n",
    "    \n",
    "    def __repr__(self):\n",
    "        return \"{} of {}s\".format(self.rank.name.capitalize(), self.suit.name.capitalize())\n",
    "    \n",
    "    def __value__(self):\n",
    "        return self.rank.score()\n"
   ]
  },
  {
   "cell_type": "code",
   "execution_count": 165,
   "metadata": {
    "collapsed": true
   },
   "outputs": [],
   "source": [
    "class Deck(object):\n",
    "    def __init__(self):\n",
    "        self.cards = []\n",
    "        for suit in Suit:\n",
    "            for rank in Rank:\n",
    "                card = Card(rank, suit)\n",
    "                self.cards.append(card)"
   ]
  },
  {
   "cell_type": "code",
   "execution_count": 166,
   "metadata": {},
   "outputs": [
    {
     "data": {
      "text/html": [
       "<div>\n",
       "<style>\n",
       "    .dataframe thead tr:only-child th {\n",
       "        text-align: right;\n",
       "    }\n",
       "\n",
       "    .dataframe thead th {\n",
       "        text-align: left;\n",
       "    }\n",
       "\n",
       "    .dataframe tbody tr th {\n",
       "        vertical-align: top;\n",
       "    }\n",
       "</style>\n",
       "<table border=\"1\" class=\"dataframe\">\n",
       "  <thead>\n",
       "    <tr style=\"text-align: right;\">\n",
       "      <th></th>\n",
       "      <th>card</th>\n",
       "      <th>suit</th>\n",
       "      <th>rank</th>\n",
       "      <th>score</th>\n",
       "    </tr>\n",
       "  </thead>\n",
       "  <tbody>\n",
       "    <tr>\n",
       "      <th>0</th>\n",
       "      <td>Ace of Hearts</td>\n",
       "      <td>Suit.heart</td>\n",
       "      <td>Rank.ace</td>\n",
       "      <td>1</td>\n",
       "    </tr>\n",
       "    <tr>\n",
       "      <th>1</th>\n",
       "      <td>Two of Hearts</td>\n",
       "      <td>Suit.heart</td>\n",
       "      <td>Rank.two</td>\n",
       "      <td>2</td>\n",
       "    </tr>\n",
       "    <tr>\n",
       "      <th>2</th>\n",
       "      <td>Three of Hearts</td>\n",
       "      <td>Suit.heart</td>\n",
       "      <td>Rank.three</td>\n",
       "      <td>3</td>\n",
       "    </tr>\n",
       "    <tr>\n",
       "      <th>3</th>\n",
       "      <td>Four of Hearts</td>\n",
       "      <td>Suit.heart</td>\n",
       "      <td>Rank.four</td>\n",
       "      <td>4</td>\n",
       "    </tr>\n",
       "    <tr>\n",
       "      <th>4</th>\n",
       "      <td>Five of Hearts</td>\n",
       "      <td>Suit.heart</td>\n",
       "      <td>Rank.five</td>\n",
       "      <td>5</td>\n",
       "    </tr>\n",
       "  </tbody>\n",
       "</table>\n",
       "</div>"
      ],
      "text/plain": [
       "              card        suit        rank  score\n",
       "0    Ace of Hearts  Suit.heart    Rank.ace      1\n",
       "1    Two of Hearts  Suit.heart    Rank.two      2\n",
       "2  Three of Hearts  Suit.heart  Rank.three      3\n",
       "3   Four of Hearts  Suit.heart   Rank.four      4\n",
       "4   Five of Hearts  Suit.heart   Rank.five      5"
      ]
     },
     "execution_count": 166,
     "metadata": {},
     "output_type": "execute_result"
    }
   ],
   "source": [
    "import pandas as pd\n",
    "df = pd.DataFrame({'card': Deck().cards})\n",
    "df['suit'] = df.card.map(lambda c: c.suit)\n",
    "df['rank'] = df.card.map(lambda c: c.rank)\n",
    "df['score'] = df.card.map(lambda c: c.rank.score)\n",
    "df.head()"
   ]
  },
  {
   "cell_type": "code",
   "execution_count": 167,
   "metadata": {},
   "outputs": [
    {
     "data": {
      "text/plain": [
       "array([[<matplotlib.axes._subplots.AxesSubplot object at 0x1209b9b38>]], dtype=object)"
      ]
     },
     "execution_count": 167,
     "metadata": {},
     "output_type": "execute_result"
    },
    {
     "data": {
      "image/png": "[encoded data removed]",
      "text/plain": [
       "<matplotlib.figure.Figure at 0x120f8b160>"
      ]
     },
     "metadata": {},
     "output_type": "display_data"
    }
   ],
   "source": [
    "import matplotlib\n",
    "import matplotlib.pyplot as plt\n",
    "matplotlib.style.use('ggplot')\n",
    "\n",
    "df.hist()"
   ]
  },
  {
   "cell_type": "code",
   "execution_count": 168,
   "metadata": {},
   "outputs": [
    {
     "data": {
      "text/html": [
       "<div>\n",
       "<style>\n",
       "    .dataframe thead tr:only-child th {\n",
       "        text-align: right;\n",
       "    }\n",
       "\n",
       "    .dataframe thead th {\n",
       "        text-align: left;\n",
       "    }\n",
       "\n",
       "    .dataframe tbody tr th {\n",
       "        vertical-align: top;\n",
       "    }\n",
       "</style>\n",
       "<table border=\"1\" class=\"dataframe\">\n",
       "  <thead>\n",
       "    <tr style=\"text-align: right;\">\n",
       "      <th></th>\n",
       "      <th>score</th>\n",
       "    </tr>\n",
       "  </thead>\n",
       "  <tbody>\n",
       "    <tr>\n",
       "      <th>count</th>\n",
       "      <td>52.000000</td>\n",
       "    </tr>\n",
       "    <tr>\n",
       "      <th>mean</th>\n",
       "      <td>6.538462</td>\n",
       "    </tr>\n",
       "    <tr>\n",
       "      <th>std</th>\n",
       "      <td>3.183669</td>\n",
       "    </tr>\n",
       "    <tr>\n",
       "      <th>min</th>\n",
       "      <td>1.000000</td>\n",
       "    </tr>\n",
       "    <tr>\n",
       "      <th>25%</th>\n",
       "      <td>4.000000</td>\n",
       "    </tr>\n",
       "    <tr>\n",
       "      <th>50%</th>\n",
       "      <td>7.000000</td>\n",
       "    </tr>\n",
       "    <tr>\n",
       "      <th>75%</th>\n",
       "      <td>10.000000</td>\n",
       "    </tr>\n",
       "    <tr>\n",
       "      <th>max</th>\n",
       "      <td>10.000000</td>\n",
       "    </tr>\n",
       "  </tbody>\n",
       "</table>\n",
       "</div>"
      ],
      "text/plain": [
       "           score\n",
       "count  52.000000\n",
       "mean    6.538462\n",
       "std     3.183669\n",
       "min     1.000000\n",
       "25%     4.000000\n",
       "50%     7.000000\n",
       "75%    10.000000\n",
       "max    10.000000"
      ]
     },
     "execution_count": 168,
     "metadata": {},
     "output_type": "execute_result"
    }
   ],
   "source": [
    "df.median()\n",
    "df.describe()\n"
   ]
  },
  {
   "cell_type": "code",
   "execution_count": 169,
   "metadata": {},
   "outputs": [
    {
     "name": "stdout",
     "output_type": "stream",
     "text": [
      "median =  20.0\n"
     ]
    },
    {
     "data": {
      "text/plain": [
       "count    30.000000\n",
       "mean     20.433333\n",
       "std       5.177427\n",
       "min      11.000000\n",
       "25%      16.000000\n",
       "50%      20.000000\n",
       "75%      25.000000\n",
       "max      28.000000\n",
       "dtype: float64"
      ]
     },
     "execution_count": 169,
     "metadata": {},
     "output_type": "execute_result"
    }
   ],
   "source": [
    "import numpy as np\n",
    "\n",
    "def take_sample(n=3):\n",
    "    return df.reindex(np.random.permutation(df.index)).head(n)\n",
    "\n",
    "samples = []\n",
    "for _ in range(30):\n",
    "    samples.append(take_sample()['score'].sum())\n",
    "\n",
    "samples = pd.Series(samples)\n",
    "print(\"median = \", samples.median())\n",
    "samples.describe()"
   ]
  },
  {
   "cell_type": "code",
   "execution_count": 170,
   "metadata": {
    "collapsed": true
   },
   "outputs": [],
   "source": [
    "\n",
    "writer = pd.ExcelWriter('output.xlsx')\n",
    "samples.to_excel(writer,'Sheet1')\n",
    "writer.save()"
   ]
  },
  {
   "cell_type": "code",
   "execution_count": 171,
   "metadata": {},
   "outputs": [
    {
     "data": {
      "image/png": "[encoded data removed]",
      "text/plain": [
       "<matplotlib.figure.Figure at 0x1211a8f98>"
      ]
     },
     "metadata": {},
     "output_type": "display_data"
    }
   ],
   "source": [
    "samples.hist(bins =10)\n",
    "plt.savefig(\"3_draw.png\")"
   ]
  },
  {
   "cell_type": "code",
   "execution_count": 172,
   "metadata": {},
   "outputs": [
    {
     "data": {
      "text/plain": [
       "count    30.000000\n",
       "mean     20.433333\n",
       "std       5.177427\n",
       "min      11.000000\n",
       "25%      16.000000\n",
       "50%      20.000000\n",
       "75%      25.000000\n",
       "max      28.000000\n",
       "dtype: float64"
      ]
     },
     "execution_count": 172,
     "metadata": {},
     "output_type": "execute_result"
    }
   ],
   "source": [
    "samples.median()\n",
    "samples.describe()\n"
   ]
  }
 ],
 "metadata": {
  "kernelspec": {
   "display_name": "Python [conda env:udaprogram]",
   "language": "python",
   "name": "conda-env-udaprogram-py"
  },
  "language_info": {
   "codemirror_mode": {
    "name": "ipython",
    "version": 3
   },
   "file_extension": ".py",
   "mimetype": "text/x-python",
   "name": "python",
   "nbconvert_exporter": "python",
   "pygments_lexer": "ipython3",
   "version": "3.6.2"
  }
 },
 "nbformat": 4,
 "nbformat_minor": 2
}
